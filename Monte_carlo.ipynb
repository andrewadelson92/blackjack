{
 "cells": [
  {
   "cell_type": "code",
   "execution_count": 4,
   "metadata": {
    "collapsed": false
   },
   "outputs": [],
   "source": [
    "import numpy as np"
   ]
  },
  {
   "cell_type": "code",
   "execution_count": 9,
   "metadata": {
    "collapsed": true
   },
   "outputs": [],
   "source": [
    "def make_deck(y):\n",
    "    #y is the number of decks in the shoe. \n",
    "    #I assume that we have no info on the deck other than our 7s and the dealer's 10\n",
    "    deck = np.array([y for y in range(2,15)*4*y])\n",
    "    deck = np.delete(deck,[8])\n",
    "    deck = np.delete(deck,[5])\n",
    "    deck = np.delete(deck,[16])\n",
    "    for i in range(len(deck)):\n",
    "        #if i is a facecard, replace these values with 10. Aces are only 11, but I deal with that later.\n",
    "        if deck[i] in [12,13,14]:\n",
    "            deck[i] = 10\n",
    "        if deck[i]==11:\n",
    "            deck[i]=1\n",
    "    np.random.shuffle(deck)\n",
    "    return deck"
   ]
  },
  {
   "cell_type": "code",
   "execution_count": 97,
   "metadata": {
    "collapsed": false
   },
   "outputs": [],
   "source": [
    "def simulation(x,y):\n",
    "    #this simulations a hand. x is the \"decision point\". This is the minimum number that we stay on. \n",
    "    #so the basic example y=14, means that we stay intially and do nothing. y is the number of decks\n",
    "    deck = make_deck(y)\n",
    "    #initialize my total at 7,7 =14\n",
    "    my_score = 14\n",
    "    while (my_score<x):\n",
    "        my_score+=deck[0]\n",
    "        deck = np.delete(deck,[0])\n",
    "        \n",
    "    #if we bust, we lose 1 unit. No reason to consider the dealer's action\n",
    "    if my_score>21:\n",
    "        return -1\n",
    "    else:\n",
    "        dealer_score=10\n",
    "        \n",
    "        ##while the card that is at the top is an ace, shuffle the deck so it is not 11. This is because\n",
    "        ##we know that the dealer is not dealt a blackjack\n",
    "        while deck[0]==1:\n",
    "            np.random.shuffle(deck)\n",
    "        while (dealer_score<17):\n",
    "            dealer_score+=deck[0]\n",
    "            deck = np.delete(deck,[0])\n",
    "        if dealer_score>21:\n",
    "            return 1\n",
    "        elif dealer_score>my_score:\n",
    "            return -1\n",
    "        elif my_score>dealer_score:\n",
    "            return 1\n",
    "        else:\n",
    "            return 0\n",
    "    "
   ]
  },
  {
   "cell_type": "code",
   "execution_count": 98,
   "metadata": {
    "collapsed": true
   },
   "outputs": [],
   "source": [
    "def monte(n,x,y):\n",
    "    #n is the number of simulations. x is the decision point. y is the number of decks\n",
    "    result = 0\n",
    "    for i in range(n):\n",
    "        result+=simulation(x,y)\n",
    "    \n",
    "    return float(result)/n"
   ]
  },
  {
   "cell_type": "code",
   "execution_count": 126,
   "metadata": {
    "collapsed": false
   },
   "outputs": [
    {
     "data": {
      "text/plain": [
       "-0.52623"
      ]
     },
     "execution_count": 126,
     "metadata": {},
     "output_type": "execute_result"
    }
   ],
   "source": [
    "monte(1000000,14,6)"
   ]
  },
  {
   "cell_type": "code",
   "execution_count": 127,
   "metadata": {
    "collapsed": false
   },
   "outputs": [
    {
     "data": {
      "text/plain": [
       "-0.492727"
      ]
     },
     "execution_count": 127,
     "metadata": {},
     "output_type": "execute_result"
    }
   ],
   "source": [
    "monte(1000000,15,6)"
   ]
  },
  {
   "cell_type": "code",
   "execution_count": 128,
   "metadata": {
    "collapsed": false
   },
   "outputs": [
    {
     "data": {
      "text/plain": [
       "-0.490473"
      ]
     },
     "execution_count": 128,
     "metadata": {},
     "output_type": "execute_result"
    }
   ],
   "source": [
    "monte(1000000,16,6)"
   ]
  },
  {
   "cell_type": "code",
   "execution_count": 129,
   "metadata": {
    "collapsed": false
   },
   "outputs": [
    {
     "ename": "KeyboardInterrupt",
     "evalue": "",
     "output_type": "error",
     "traceback": [
      "\u001b[0;31m---------------------------------------------------------------------------\u001b[0m",
      "\u001b[0;31mKeyboardInterrupt\u001b[0m                         Traceback (most recent call last)",
      "\u001b[0;32m<ipython-input-129-cc7394f7c0c6>\u001b[0m in \u001b[0;36m<module>\u001b[0;34m()\u001b[0m\n\u001b[0;32m----> 1\u001b[0;31m \u001b[0mmonte\u001b[0m\u001b[0;34m(\u001b[0m\u001b[0;36m1000000\u001b[0m\u001b[0;34m,\u001b[0m\u001b[0;36m17\u001b[0m\u001b[0;34m,\u001b[0m\u001b[0;36m2\u001b[0m\u001b[0;34m)\u001b[0m\u001b[0;34m\u001b[0m\u001b[0m\n\u001b[0m",
      "\u001b[0;32m<ipython-input-98-049f85954c6f>\u001b[0m in \u001b[0;36mmonte\u001b[0;34m(n, x, y)\u001b[0m\n\u001b[1;32m      3\u001b[0m     \u001b[0mresult\u001b[0m \u001b[0;34m=\u001b[0m \u001b[0;36m0\u001b[0m\u001b[0;34m\u001b[0m\u001b[0m\n\u001b[1;32m      4\u001b[0m     \u001b[0;32mfor\u001b[0m \u001b[0mi\u001b[0m \u001b[0;32min\u001b[0m \u001b[0mrange\u001b[0m\u001b[0;34m(\u001b[0m\u001b[0mn\u001b[0m\u001b[0;34m)\u001b[0m\u001b[0;34m:\u001b[0m\u001b[0;34m\u001b[0m\u001b[0m\n\u001b[0;32m----> 5\u001b[0;31m         \u001b[0mresult\u001b[0m\u001b[0;34m+=\u001b[0m\u001b[0msimulation\u001b[0m\u001b[0;34m(\u001b[0m\u001b[0mx\u001b[0m\u001b[0;34m,\u001b[0m\u001b[0my\u001b[0m\u001b[0;34m)\u001b[0m\u001b[0;34m\u001b[0m\u001b[0m\n\u001b[0m\u001b[1;32m      6\u001b[0m     \u001b[0;32mreturn\u001b[0m \u001b[0mfloat\u001b[0m\u001b[0;34m(\u001b[0m\u001b[0mresult\u001b[0m\u001b[0;34m)\u001b[0m\u001b[0;34m/\u001b[0m\u001b[0mn\u001b[0m\u001b[0;34m\u001b[0m\u001b[0m\n",
      "\u001b[0;32m<ipython-input-97-c6ae33a1ff37>\u001b[0m in \u001b[0;36msimulation\u001b[0;34m(x, y)\u001b[0m\n\u001b[1;32m      2\u001b[0m     \u001b[0;31m#this simulations a hand. x is the \"decision point\". This is the minimum number that we stay on.\u001b[0m\u001b[0;34m\u001b[0m\u001b[0;34m\u001b[0m\u001b[0m\n\u001b[1;32m      3\u001b[0m     \u001b[0;31m#so the basic example y=14, means that we stay intially and do nothing. y is the number of decks\u001b[0m\u001b[0;34m\u001b[0m\u001b[0;34m\u001b[0m\u001b[0m\n\u001b[0;32m----> 4\u001b[0;31m     \u001b[0mdeck\u001b[0m \u001b[0;34m=\u001b[0m \u001b[0mmake_deck\u001b[0m\u001b[0;34m(\u001b[0m\u001b[0my\u001b[0m\u001b[0;34m)\u001b[0m\u001b[0;34m\u001b[0m\u001b[0m\n\u001b[0m\u001b[1;32m      5\u001b[0m     \u001b[0;31m#initialize my total at 7,7 =14\u001b[0m\u001b[0;34m\u001b[0m\u001b[0;34m\u001b[0m\u001b[0m\n\u001b[1;32m      6\u001b[0m     \u001b[0mmy_score\u001b[0m \u001b[0;34m=\u001b[0m \u001b[0;36m14\u001b[0m\u001b[0;34m\u001b[0m\u001b[0m\n",
      "\u001b[0;32m<ipython-input-22-12257f3348c3>\u001b[0m in \u001b[0;36mmake_deck\u001b[0;34m(y)\u001b[0m\n\u001b[1;32m      3\u001b[0m     \u001b[0;31m#I assume that we have no info on the deck other than our 7s and the dealer's 10\u001b[0m\u001b[0;34m\u001b[0m\u001b[0;34m\u001b[0m\u001b[0m\n\u001b[1;32m      4\u001b[0m     \u001b[0mdeck\u001b[0m \u001b[0;34m=\u001b[0m \u001b[0mnp\u001b[0m\u001b[0;34m.\u001b[0m\u001b[0marray\u001b[0m\u001b[0;34m(\u001b[0m\u001b[0;34m[\u001b[0m\u001b[0my\u001b[0m \u001b[0;32mfor\u001b[0m \u001b[0my\u001b[0m \u001b[0;32min\u001b[0m \u001b[0mrange\u001b[0m\u001b[0;34m(\u001b[0m\u001b[0;36m2\u001b[0m\u001b[0;34m,\u001b[0m\u001b[0;36m15\u001b[0m\u001b[0;34m)\u001b[0m\u001b[0;34m*\u001b[0m\u001b[0;36m4\u001b[0m\u001b[0;34m*\u001b[0m\u001b[0my\u001b[0m\u001b[0;34m]\u001b[0m\u001b[0;34m)\u001b[0m\u001b[0;34m\u001b[0m\u001b[0m\n\u001b[0;32m----> 5\u001b[0;31m     \u001b[0mdeck\u001b[0m \u001b[0;34m=\u001b[0m \u001b[0mnp\u001b[0m\u001b[0;34m.\u001b[0m\u001b[0mdelete\u001b[0m\u001b[0;34m(\u001b[0m\u001b[0mdeck\u001b[0m\u001b[0;34m,\u001b[0m\u001b[0;34m[\u001b[0m\u001b[0;36m8\u001b[0m\u001b[0;34m]\u001b[0m\u001b[0;34m)\u001b[0m\u001b[0;34m\u001b[0m\u001b[0m\n\u001b[0m\u001b[1;32m      6\u001b[0m     \u001b[0mdeck\u001b[0m \u001b[0;34m=\u001b[0m \u001b[0mnp\u001b[0m\u001b[0;34m.\u001b[0m\u001b[0mdelete\u001b[0m\u001b[0;34m(\u001b[0m\u001b[0mdeck\u001b[0m\u001b[0;34m,\u001b[0m\u001b[0;34m[\u001b[0m\u001b[0;36m5\u001b[0m\u001b[0;34m]\u001b[0m\u001b[0;34m)\u001b[0m\u001b[0;34m\u001b[0m\u001b[0m\n\u001b[1;32m      7\u001b[0m     \u001b[0mdeck\u001b[0m \u001b[0;34m=\u001b[0m \u001b[0mnp\u001b[0m\u001b[0;34m.\u001b[0m\u001b[0mdelete\u001b[0m\u001b[0;34m(\u001b[0m\u001b[0mdeck\u001b[0m\u001b[0;34m,\u001b[0m\u001b[0;34m[\u001b[0m\u001b[0;36m16\u001b[0m\u001b[0;34m]\u001b[0m\u001b[0;34m)\u001b[0m\u001b[0;34m\u001b[0m\u001b[0m\n",
      "\u001b[0;32m/Users/andrewadelson/anaconda/lib/python2.7/site-packages/numpy/lib/function_base.pyc\u001b[0m in \u001b[0;36mdelete\u001b[0;34m(arr, obj, axis)\u001b[0m\n\u001b[1;32m   4721\u001b[0m                 DeprecationWarning, stacklevel=2)\n\u001b[1;32m   4722\u001b[0m             \u001b[0mobj\u001b[0m \u001b[0;34m=\u001b[0m \u001b[0mobj\u001b[0m\u001b[0;34m[\u001b[0m\u001b[0minside_bounds\u001b[0m\u001b[0;34m]\u001b[0m\u001b[0;34m\u001b[0m\u001b[0m\n\u001b[0;32m-> 4723\u001b[0;31m         \u001b[0mpositive_indices\u001b[0m \u001b[0;34m=\u001b[0m \u001b[0mobj\u001b[0m \u001b[0;34m>=\u001b[0m \u001b[0;36m0\u001b[0m\u001b[0;34m\u001b[0m\u001b[0m\n\u001b[0m\u001b[1;32m   4724\u001b[0m         \u001b[0;32mif\u001b[0m \u001b[0;32mnot\u001b[0m \u001b[0mpositive_indices\u001b[0m\u001b[0;34m.\u001b[0m\u001b[0mall\u001b[0m\u001b[0;34m(\u001b[0m\u001b[0;34m)\u001b[0m\u001b[0;34m:\u001b[0m\u001b[0;34m\u001b[0m\u001b[0m\n\u001b[1;32m   4725\u001b[0m             warnings.warn(\n",
      "\u001b[0;31mKeyboardInterrupt\u001b[0m: "
     ]
    }
   ],
   "source": [
    "monte(1000000,17,6)"
   ]
  },
  {
   "cell_type": "code",
   "execution_count": null,
   "metadata": {
    "collapsed": false
   },
   "outputs": [],
   "source": [
    "monte(1000000,18,6)"
   ]
  },
  {
   "cell_type": "code",
   "execution_count": null,
   "metadata": {
    "collapsed": true
   },
   "outputs": [],
   "source": [
    "monte(1000000,19,6)"
   ]
  },
  {
   "cell_type": "code",
   "execution_count": null,
   "metadata": {
    "collapsed": true
   },
   "outputs": [],
   "source": [
    "monte(1000000,20,6)"
   ]
  },
  {
   "cell_type": "code",
   "execution_count": null,
   "metadata": {
    "collapsed": true
   },
   "outputs": [],
   "source": [
    "monte(1000000,21,6)"
   ]
  },
  {
   "cell_type": "code",
   "execution_count": 12,
   "metadata": {
    "collapsed": false
   },
   "outputs": [],
   "source": [
    "##for the second blog post"
   ]
  },
  {
   "cell_type": "code",
   "execution_count": 15,
   "metadata": {
    "collapsed": true
   },
   "outputs": [],
   "source": [
    "def simulation2(x,y):\n",
    "    #this simulations a hand. x is whether to stand or to hit. 1 represents hit, 0 represents stand\n",
    "    #y is the number of decks\n",
    "    deck = make_deck(y)\n",
    "    #initialize my total at 7,7 =14\n",
    "    my_score = 14\n",
    "    ##if the decision is to hit, add the value of that card to my_score and remove the card\n",
    "    if x:\n",
    "        my_score+=deck[0]\n",
    "        deck = np.delete(deck,[0])\n",
    "    #if we bust, we lose. No reason to consider the dealer's action\n",
    "        if my_score>21:\n",
    "            return -1\n",
    "    else:\n",
    "        dealer_score=10\n",
    "        \n",
    "        ##while the card that is at the top is an ace, shuffle the deck so it is not ace. This is because\n",
    "        ##we know that the dealer is not dealt a blackjack\n",
    "        while deck[0]==1:\n",
    "            np.random.shuffle(deck)\n",
    "        while (dealer_score<17):\n",
    "            dealer_score+=deck[0]\n",
    "            deck = np.delete(deck,[0])\n",
    "        if dealer_score>21:\n",
    "            return 1\n",
    "        elif dealer_score>my_score:\n",
    "            return -1\n",
    "        elif my_score>dealer_score:\n",
    "            return 1\n",
    "        else:\n",
    "            return 0"
   ]
  },
  {
   "cell_type": "code",
   "execution_count": 16,
   "metadata": {
    "collapsed": true
   },
   "outputs": [],
   "source": [
    "def monte2(n,x,y):\n",
    "    #n is the number of simulations. x is whether we hit or stand. y is the number of decks\n",
    "    result = 0\n",
    "    for i in range(n):\n",
    "        result+=simulation2(x,y)\n",
    "    \n",
    "    return float(result)/n"
   ]
  },
  {
   "cell_type": "code",
   "execution_count": 17,
   "metadata": {
    "collapsed": false
   },
   "outputs": [
    {
     "data": {
      "text/plain": [
       "-0.477122"
      ]
     },
     "execution_count": 17,
     "metadata": {},
     "output_type": "execute_result"
    }
   ],
   "source": [
    "monte2(1000000,1,6)"
   ]
  },
  {
   "cell_type": "code",
   "execution_count": 18,
   "metadata": {
    "collapsed": false
   },
   "outputs": [
    {
     "data": {
      "text/plain": [
       "-0.535446"
      ]
     },
     "execution_count": 18,
     "metadata": {},
     "output_type": "execute_result"
    }
   ],
   "source": [
    "monte2(1000000,0,6)"
   ]
  },
  {
   "cell_type": "code",
   "execution_count": 21,
   "metadata": {
    "collapsed": true
   },
   "outputs": [],
   "source": [
    "import matplotlib.pyplot as plt\n",
    "import seaborn as sns\n",
    "%matplotlib inline"
   ]
  },
  {
   "cell_type": "code",
   "execution_count": 27,
   "metadata": {
    "collapsed": true
   },
   "outputs": [],
   "source": [
    "def make_distribution(n,x,y):\n",
    "    arr = []\n",
    "    for i in range(n):\n",
    "        arr.append(simulation2(x,y))\n",
    "    print float(sum(arr))/len(arr)\n",
    "    return arr"
   ]
  },
  {
   "cell_type": "code",
   "execution_count": 35,
   "metadata": {
    "collapsed": false
   },
   "outputs": [
    {
     "name": "stdout",
     "output_type": "stream",
     "text": [
      "-0.53756\n"
     ]
    }
   ],
   "source": [
    "x = make_distribution(100000,0,6)"
   ]
  },
  {
   "cell_type": "code",
   "execution_count": 36,
   "metadata": {
    "collapsed": false
   },
   "outputs": [
    {
     "data": {
      "text/plain": [
       "(array([ 76878.,      0.,      0.,      0.,      0.,      0.,      0.,\n",
       "             0.,      0.,  23122.]),\n",
       " array([-1. , -0.8, -0.6, -0.4, -0.2,  0. ,  0.2,  0.4,  0.6,  0.8,  1. ]),\n",
       " <a list of 10 Patch objects>)"
      ]
     },
     "execution_count": 36,
     "metadata": {},
     "output_type": "execute_result"
    },
    {
     "data": {
      "image/png": "[encoded data removed]",
      "text/plain": [
       "<matplotlib.figure.Figure at 0x116158e50>"
      ]
     },
     "metadata": {},
     "output_type": "display_data"
    }
   ],
   "source": [
    "plt.hist(x)"
   ]
  },
  {
   "cell_type": "code",
   "execution_count": 37,
   "metadata": {
    "collapsed": false
   },
   "outputs": [
    {
     "name": "stdout",
     "output_type": "stream",
     "text": [
      "-0.47281\n"
     ]
    }
   ],
   "source": [
    "x = make_distribution(100000,1,6)"
   ]
  },
  {
   "cell_type": "code",
   "execution_count": 38,
   "metadata": {
    "collapsed": false
   },
   "outputs": [
    {
     "data": {
      "text/plain": [
       "(array([ 70670.,      0.,      0.,      0.,      0.,   5941.,      0.,\n",
       "             0.,      0.,  23389.]),\n",
       " array([-1. , -0.8, -0.6, -0.4, -0.2,  0. ,  0.2,  0.4,  0.6,  0.8,  1. ]),\n",
       " <a list of 10 Patch objects>)"
      ]
     },
     "execution_count": 38,
     "metadata": {},
     "output_type": "execute_result"
    },
    {
     "data": {
      "image/png": "[encoded data removed]",
      "text/plain": [
       "<matplotlib.figure.Figure at 0x116493450>"
      ]
     },
     "metadata": {},
     "output_type": "display_data"
    }
   ],
   "source": [
    "plt.hist(x)"
   ]
  },
  {
   "cell_type": "code",
   "execution_count": 80,
   "metadata": {
    "collapsed": false
   },
   "outputs": [],
   "source": [
    "sample_means = []\n",
    "for i in range(10000):\n",
    "    sample_means.append(monte2(100,0,6))"
   ]
  },
  {
   "cell_type": "code",
   "execution_count": 82,
   "metadata": {
    "collapsed": false
   },
   "outputs": [
    {
     "data": {
      "text/plain": [
       "(array([   1.,    8.,    0.,   11.,   20.,    0.,   38.,    0.,   74.,\n",
       "         142.,    0.,  222.,  329.,    0.,  458.,    0.,  603.,  752.,\n",
       "           0.,  863.,  885.,    0.,  958.,    0.,  909.,  834.,    0.,\n",
       "         728.,    0.,  562.,  493.,    0.,  358.,  276.,    0.,  197.,\n",
       "           0.,  110.,   67.,    0.,   53.,   29.,    0.,    6.,    0.,\n",
       "           6.,    3.,    0.,    4.,    1.]),\n",
       " array([-0.82  , -0.8076, -0.7952, -0.7828, -0.7704, -0.758 , -0.7456,\n",
       "        -0.7332, -0.7208, -0.7084, -0.696 , -0.6836, -0.6712, -0.6588,\n",
       "        -0.6464, -0.634 , -0.6216, -0.6092, -0.5968, -0.5844, -0.572 ,\n",
       "        -0.5596, -0.5472, -0.5348, -0.5224, -0.51  , -0.4976, -0.4852,\n",
       "        -0.4728, -0.4604, -0.448 , -0.4356, -0.4232, -0.4108, -0.3984,\n",
       "        -0.386 , -0.3736, -0.3612, -0.3488, -0.3364, -0.324 , -0.3116,\n",
       "        -0.2992, -0.2868, -0.2744, -0.262 , -0.2496, -0.2372, -0.2248,\n",
       "        -0.2124, -0.2   ]),\n",
       " <a list of 50 Patch objects>)"
      ]
     },
     "execution_count": 82,
     "metadata": {},
     "output_type": "execute_result"
    },
    {
     "data": {
      "image/png": "[encoded data removed]",
      "text/plain": [
       "<matplotlib.figure.Figure at 0x10b539a50>"
      ]
     },
     "metadata": {},
     "output_type": "display_data"
    }
   ],
   "source": [
    "plt.hist(sample_means,bins =50)"
   ]
  },
  {
   "cell_type": "code",
   "execution_count": 50,
   "metadata": {
    "collapsed": false
   },
   "outputs": [
    {
     "data": {
      "text/plain": [
       "-0.5363819999999975"
      ]
     },
     "execution_count": 50,
     "metadata": {},
     "output_type": "execute_result"
    }
   ],
   "source": [
    "sum(sample_means)/len(sample_means)"
   ]
  },
  {
   "cell_type": "code",
   "execution_count": 54,
   "metadata": {
    "collapsed": true
   },
   "outputs": [],
   "source": [
    "sample_means = []\n",
    "for i in range(2000):\n",
    "    sample_means.append(monte2(400,0,6))\n",
    "\n",
    "sns.distplot(sample_means,bins =11)\n",
    "\n",
    "print sum(sample_means)/len(sample_means)"
   ]
  },
  {
   "cell_type": "code",
   "execution_count": 62,
   "metadata": {
    "collapsed": false
   },
   "outputs": [
    {
     "name": "stdout",
     "output_type": "stream",
     "text": [
      "-0.536466\n"
     ]
    },
    {
     "data": {
      "text/plain": [
       "<matplotlib.axes._subplots.AxesSubplot at 0x117c54690>"
      ]
     },
     "execution_count": 62,
     "metadata": {},
     "output_type": "execute_result"
    },
    {
     "data": {
      "image/png": "[encoded data removed]",
      "text/plain": [
       "<matplotlib.figure.Figure at 0x117cfa250>"
      ]
     },
     "metadata": {},
     "output_type": "display_data"
    }
   ],
   "source": [
    "sample_means = []\n",
    "for i in range(1000):\n",
    "    sample_means.append(monte2(1000,0,6))\n",
    "\n",
    "print sum(sample_means)/len(sample_means)\n",
    "sns.distplot(sample_means,bins =11)"
   ]
  },
  {
   "cell_type": "code",
   "execution_count": 64,
   "metadata": {
    "collapsed": false
   },
   "outputs": [
    {
     "name": "stdout",
     "output_type": "stream",
     "text": [
      "-0.5351288\n"
     ]
    }
   ],
   "source": [
    "sample_means = []\n",
    "for i in range(500):\n",
    "    sample_means.append(monte2(5000,0,6))\n",
    "\n",
    "print sum(sample_means)/len(sample_means)"
   ]
  },
  {
   "cell_type": "code",
   "execution_count": 66,
   "metadata": {
    "collapsed": false
   },
   "outputs": [
    {
     "data": {
      "text/plain": [
       "<matplotlib.axes._subplots.AxesSubplot at 0x117eba510>"
      ]
     },
     "execution_count": 66,
     "metadata": {},
     "output_type": "execute_result"
    },
    {
     "data": {
      "image/png": "[encoded data removed]",
      "text/plain": [
       "<matplotlib.figure.Figure at 0x117fbab50>"
      ]
     },
     "metadata": {},
     "output_type": "display_data"
    }
   ],
   "source": [
    "\n",
    "sns.distplot(sample_means,bins =15)"
   ]
  },
  {
   "cell_type": "code",
   "execution_count": 67,
   "metadata": {
    "collapsed": false
   },
   "outputs": [
    {
     "name": "stdout",
     "output_type": "stream",
     "text": [
      "-0.5426\n"
     ]
    }
   ],
   "source": [
    "sample_means = []\n",
    "for i in range(20000):\n",
    "    sample_means.append(monte2(3,0,6))\n",
    "\n",
    "print sum(sample_means)/len(sample_means)"
   ]
  },
  {
   "cell_type": "code",
   "execution_count": 69,
   "metadata": {
    "collapsed": false
   },
   "outputs": [
    {
     "data": {
      "text/plain": [
       "(array([ 9195.,     0.,     0.,     0.,     0.,  8151.,     0.,     0.,\n",
       "            0.,     0.,  2391.,     0.,     0.,     0.,   263.]),\n",
       " array([-1.        , -0.86666667, -0.73333333, -0.6       , -0.46666667,\n",
       "        -0.33333333, -0.2       , -0.06666667,  0.06666667,  0.2       ,\n",
       "         0.33333333,  0.46666667,  0.6       ,  0.73333333,  0.86666667,  1.        ]),\n",
       " <a list of 15 Patch objects>)"
      ]
     },
     "execution_count": 69,
     "metadata": {},
     "output_type": "execute_result"
    },
    {
     "data": {
      "image/png": "[encoded data removed]",
      "text/plain": [
       "<matplotlib.figure.Figure at 0x118352390>"
      ]
     },
     "metadata": {},
     "output_type": "display_data"
    }
   ],
   "source": [
    "plt.hist(sample_means,bins =15)"
   ]
  },
  {
   "cell_type": "code",
   "execution_count": 70,
   "metadata": {
    "collapsed": false
   },
   "outputs": [
    {
     "name": "stdout",
     "output_type": "stream",
     "text": [
      "-0.54104\n"
     ]
    }
   ],
   "source": [
    "sample_means = []\n",
    "for i in range(10000):\n",
    "    sample_means.append(monte2(10,0,6))\n",
    "\n",
    "print sum(sample_means)/len(sample_means)"
   ]
  },
  {
   "cell_type": "code",
   "execution_count": 72,
   "metadata": {
    "collapsed": false
   },
   "outputs": [
    {
     "data": {
      "text/plain": [
       "(array([  7.67000000e+02,   2.12600000e+03,   0.00000000e+00,\n",
       "          2.96600000e+03,   0.00000000e+00,   2.37400000e+03,\n",
       "          0.00000000e+00,   1.21700000e+03,   0.00000000e+00,\n",
       "          4.22000000e+02,   0.00000000e+00,   1.08000000e+02,\n",
       "          0.00000000e+00,   1.80000000e+01,   2.00000000e+00]),\n",
       " array([-1.        , -0.89333333, -0.78666667, -0.68      , -0.57333333,\n",
       "        -0.46666667, -0.36      , -0.25333333, -0.14666667, -0.04      ,\n",
       "         0.06666667,  0.17333333,  0.28      ,  0.38666667,  0.49333333,\n",
       "         0.6       ]),\n",
       " <a list of 15 Patch objects>)"
      ]
     },
     "execution_count": 72,
     "metadata": {},
     "output_type": "execute_result"
    },
    {
     "data": {
      "image/png": "[encoded data removed]",
      "text/plain": [
       "<matplotlib.figure.Figure at 0x10b2bd050>"
      ]
     },
     "metadata": {},
     "output_type": "display_data"
    }
   ],
   "source": [
    "plt.hist(sample_means, bins=15)"
   ]
  },
  {
   "cell_type": "code",
   "execution_count": 94,
   "metadata": {
    "collapsed": false
   },
   "outputs": [
    {
     "data": {
      "text/plain": [
       "-0.53488"
      ]
     },
     "execution_count": 94,
     "metadata": {},
     "output_type": "execute_result"
    }
   ],
   "source": [
    "monte2(100000,0,6)"
   ]
  },
  {
   "cell_type": "code",
   "execution_count": 100,
   "metadata": {
    "collapsed": false
   },
   "outputs": [
    {
     "data": {
      "text/plain": [
       "7.1356809568095705e-06"
      ]
     },
     "execution_count": 100,
     "metadata": {},
     "output_type": "execute_result"
    }
   ],
   "source": [
    "((-1--.5352)**2*76760 +(1--.5352)**2*23240)/99999/100000"
   ]
  },
  {
   "cell_type": "code",
   "execution_count": 95,
   "metadata": {
    "collapsed": false
   },
   "outputs": [
    {
     "data": {
      "text/plain": [
       "-0.5351857286380864"
      ]
     },
     "execution_count": 95,
     "metadata": {},
     "output_type": "execute_result"
    }
   ],
   "source": [
    "1.4271361913619141e-05+-.5352"
   ]
  },
  {
   "cell_type": "code",
   "execution_count": 96,
   "metadata": {
    "collapsed": true
   },
   "outputs": [],
   "source": [
    "import numpy as np\n",
    "def calc_var(n,x,y):\n",
    "    result = []\n",
    "    for i in range(n):\n",
    "        result.append(simulation2(x,y))\n",
    "    result = np.array(result)\n",
    "    return np.var(result) "
   ]
  },
  {
   "cell_type": "code",
   "execution_count": 97,
   "metadata": {
    "collapsed": false
   },
   "outputs": [
    {
     "data": {
      "text/plain": [
       "0.71642244960000001"
      ]
     },
     "execution_count": 97,
     "metadata": {},
     "output_type": "execute_result"
    }
   ],
   "source": [
    "calc_var(100000,0,6)"
   ]
  },
  {
   "cell_type": "code",
   "execution_count": 99,
   "metadata": {
    "collapsed": false
   },
   "outputs": [
    {
     "data": {
      "text/plain": [
       "0.0026766068997893583"
      ]
     },
     "execution_count": 99,
     "metadata": {},
     "output_type": "execute_result"
    }
   ],
   "source": [
    "\n",
    "(0.71642244960000001/100000)**.5"
   ]
  },
  {
   "cell_type": "code",
   "execution_count": 106,
   "metadata": {
    "collapsed": false
   },
   "outputs": [
    {
     "data": {
      "text/plain": [
       "-0.5325233931002107"
      ]
     },
     "execution_count": 106,
     "metadata": {},
     "output_type": "execute_result"
    }
   ],
   "source": [
    "-.5352+1*Out[99]"
   ]
  },
  {
   "cell_type": "code",
   "execution_count": 107,
   "metadata": {
    "collapsed": false
   },
   "outputs": [
    {
     "data": {
      "text/plain": [
       "-0.5378766068997893"
      ]
     },
     "execution_count": 107,
     "metadata": {},
     "output_type": "execute_result"
    }
   ],
   "source": [
    "-.5352-1*Out[99]"
   ]
  },
  {
   "cell_type": "code",
   "execution_count": null,
   "metadata": {
    "collapsed": true
   },
   "outputs": [],
   "source": []
  }
 ],
 "metadata": {
  "kernelspec": {
   "display_name": "Python 2",
   "language": "python",
   "name": "python2"
  },
  "language_info": {
   "codemirror_mode": {
    "name": "ipython",
    "version": 2
   },
   "file_extension": ".py",
   "mimetype": "text/x-python",
   "name": "python",
   "nbconvert_exporter": "python",
   "pygments_lexer": "ipython2",
   "version": "2.7.13"
  }
 },
 "nbformat": 4,
 "nbformat_minor": 2
}
